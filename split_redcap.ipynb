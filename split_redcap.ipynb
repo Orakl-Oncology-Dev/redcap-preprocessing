{
 "cells": [
  {
   "cell_type": "code",
   "execution_count": 1,
   "metadata": {},
   "outputs": [],
   "source": [
    "import os\n",
    "import pandas as pd\n",
    "import numpy as np\n",
    "import datetime\n"
   ]
  },
  {
   "cell_type": "markdown",
   "metadata": {},
   "source": [
    "# Preprocessing clinical data\n",
    "\n",
    "We do this prior to upload because of patient merging issues."
   ]
  },
  {
   "cell_type": "code",
   "execution_count": 2,
   "metadata": {},
   "outputs": [
    {
     "name": "stdout",
     "output_type": "stream",
     "text": [
      "Error for 53\n",
      "Error for 53\n",
      "Error for 56\n",
      "Error for 88\n",
      "Error for 90\n",
      "Error for 93\n",
      "Error for 94\n",
      "Error for 95\n",
      "Error for 98\n",
      "Error for 99\n",
      "Error for 471\n",
      "Error for 53\n"
     ]
    }
   ],
   "source": [
    "from redcap_preprocessing import redcap_preprocessing\n",
    "\n",
    "redcap_filepath = '/Users/gustaveronteix/Documents/data/OraklOnco/clinical/upload/ColonGR-PDO_DATA_2023-10-18_1504.csv'\n",
    "output_dir = '/Users/gustaveronteix/Documents/data/OraklOnco/clinical/upload/single_files'\n",
    "conversion_table_filepath = 'conversion_table/redcap_CRC_conversion_table.csv'\n",
    "\n",
    "redcap_preprocessing.preprocess_redcap_data(redcap_filepath,\n",
    "                                            conversion_table_filepath,\n",
    "                                            output_dir,\n",
    "                                            False,)"
   ]
  },
  {
   "cell_type": "code",
   "execution_count": 2,
   "metadata": {},
   "outputs": [
    {
     "ename": "UnboundLocalError",
     "evalue": "cannot access local variable 'cell_line_code' where it is not associated with a value",
     "output_type": "error",
     "traceback": [
      "\u001b[0;31m---------------------------------------------------------------------------\u001b[0m",
      "\u001b[0;31mUnboundLocalError\u001b[0m                         Traceback (most recent call last)",
      "\u001b[1;32m/Users/gustaveronteix/Documents/Code/redcap-preprocessing/split_redcap.ipynb Cell 4\u001b[0m line \u001b[0;36m8\n\u001b[1;32m      <a href='vscode-notebook-cell:/Users/gustaveronteix/Documents/Code/redcap-preprocessing/split_redcap.ipynb#W3sZmlsZQ%3D%3D?line=4'>5</a>\u001b[0m conversion_table_filepath \u001b[39m=\u001b[39m \u001b[39m'\u001b[39m\u001b[39mconversion_table/redcap_PGR_conversion_table.csv\u001b[39m\u001b[39m'\u001b[39m\n\u001b[1;32m      <a href='vscode-notebook-cell:/Users/gustaveronteix/Documents/Code/redcap-preprocessing/split_redcap.ipynb#W3sZmlsZQ%3D%3D?line=5'>6</a>\u001b[0m disease_type \u001b[39m=\u001b[39m \u001b[39m'\u001b[39m\u001b[39mPGR\u001b[39m\u001b[39m'\u001b[39m\n\u001b[0;32m----> <a href='vscode-notebook-cell:/Users/gustaveronteix/Documents/Code/redcap-preprocessing/split_redcap.ipynb#W3sZmlsZQ%3D%3D?line=7'>8</a>\u001b[0m redcap_preprocessing\u001b[39m.\u001b[39;49mpreprocess_redcap_data(redcap_filepath,\n\u001b[1;32m      <a href='vscode-notebook-cell:/Users/gustaveronteix/Documents/Code/redcap-preprocessing/split_redcap.ipynb#W3sZmlsZQ%3D%3D?line=8'>9</a>\u001b[0m                                             conversion_table_filepath,\n\u001b[1;32m     <a href='vscode-notebook-cell:/Users/gustaveronteix/Documents/Code/redcap-preprocessing/split_redcap.ipynb#W3sZmlsZQ%3D%3D?line=9'>10</a>\u001b[0m                                             output_dir,\n\u001b[1;32m     <a href='vscode-notebook-cell:/Users/gustaveronteix/Documents/Code/redcap-preprocessing/split_redcap.ipynb#W3sZmlsZQ%3D%3D?line=10'>11</a>\u001b[0m                                             disease_type,\n\u001b[1;32m     <a href='vscode-notebook-cell:/Users/gustaveronteix/Documents/Code/redcap-preprocessing/split_redcap.ipynb#W3sZmlsZQ%3D%3D?line=11'>12</a>\u001b[0m                                             \u001b[39mTrue\u001b[39;49;00m,)\n",
      "File \u001b[0;32m~/Documents/Code/redcap-preprocessing/redcap_preprocessing/redcap_preprocessing.py:19\u001b[0m, in \u001b[0;36mpreprocess_redcap_data\u001b[0;34m(redcap_filepath, conversion_table_filepath, output_dir, disease_type, save_as_single_file)\u001b[0m\n\u001b[1;32m     16\u001b[0m \u001b[39mif\u001b[39;00m \u001b[39mnot\u001b[39;00m os\u001b[39m.\u001b[39mpath\u001b[39m.\u001b[39mexists(output_dir):\n\u001b[1;32m     17\u001b[0m     os\u001b[39m.\u001b[39mmakedirs(output_dir)\n\u001b[0;32m---> 19\u001b[0m split_clinical_data_from_redcap\u001b[39m.\u001b[39;49msplit_clinical_data_from_redcap_directory(redcap_filepath,\n\u001b[1;32m     20\u001b[0m                                                     conversion_table_filepath,\n\u001b[1;32m     21\u001b[0m                                                     output_dir,\n\u001b[1;32m     22\u001b[0m                                                     disease_type,\n\u001b[1;32m     23\u001b[0m                                                     save_as_single_file)\n\u001b[1;32m     25\u001b[0m split_treatment_data_from_redcap\u001b[39m.\u001b[39msplit_treatment_data_from_redcap(redcap_filepath,\n\u001b[1;32m     26\u001b[0m                                                     conversion_table_filepath,\n\u001b[1;32m     27\u001b[0m                                                     output_dir,\n\u001b[1;32m     28\u001b[0m                                                     disease_type,\n\u001b[1;32m     29\u001b[0m                                                     save_as_single_file)\n\u001b[1;32m     31\u001b[0m split_molecular_data_from_redcap\u001b[39m.\u001b[39msplit_molecular_data_from_redcap(redcap_filepath,\n\u001b[1;32m     32\u001b[0m                                                     conversion_table_filepath,\n\u001b[1;32m     33\u001b[0m                                                     output_dir,\n\u001b[1;32m     34\u001b[0m                                                     disease_type,\n\u001b[1;32m     35\u001b[0m                                                     save_as_single_file)\n",
      "File \u001b[0;32m~/Documents/Code/redcap-preprocessing/redcap_preprocessing/split_clinical_data_from_redcap.py:102\u001b[0m, in \u001b[0;36msplit_clinical_data_from_redcap_directory\u001b[0;34m(redcap_path, redcap_conversion_table_path, output_dir, disease_type, save_as_single_file)\u001b[0m\n\u001b[1;32m     97\u001b[0m record_id \u001b[39m=\u001b[39m row[\u001b[39m'\u001b[39m\u001b[39mrecord_id\u001b[39m\u001b[39m'\u001b[39m]\n\u001b[1;32m     99\u001b[0m \u001b[39mif\u001b[39;00m \u001b[39mTrue\u001b[39;00m:\n\u001b[1;32m    100\u001b[0m \n\u001b[1;32m    101\u001b[0m     \u001b[39m# get the cell line code\u001b[39;00m\n\u001b[0;32m--> 102\u001b[0m     cell_line_code, date_cell_line \u001b[39m=\u001b[39m get_cell_line_code(disease_type, redcap, record_id)\n\u001b[1;32m    104\u001b[0m     \u001b[39m# get the single patient treatment data\u001b[39;00m\n\u001b[1;32m    105\u001b[0m     cleaned_single_patient_clinical_data \u001b[39m=\u001b[39m get_single_patient_clinical_data(row,redcap_CRC_conversion_table)\n",
      "File \u001b[0;32m~/Documents/Code/redcap-preprocessing/redcap_preprocessing/utils.py:15\u001b[0m, in \u001b[0;36mget_cell_line_code\u001b[0;34m(disease_type, redcap, record_id)\u001b[0m\n\u001b[1;32m     12\u001b[0m \u001b[39melif\u001b[39;00m disease_type \u001b[39m==\u001b[39m \u001b[39m'\u001b[39m\u001b[39mPDAC\u001b[39m\u001b[39m'\u001b[39m:\n\u001b[1;32m     13\u001b[0m     cell_line_code, date_cell_line \u001b[39m=\u001b[39m get_cell_line_code_PDAC(redcap, record_id)\n\u001b[0;32m---> 15\u001b[0m \u001b[39mreturn\u001b[39;00m cell_line_code, date_cell_line\n",
      "\u001b[0;31mUnboundLocalError\u001b[0m: cannot access local variable 'cell_line_code' where it is not associated with a value"
     ]
    }
   ],
   "source": [
    "from redcap_preprocessing import redcap_preprocessing\n",
    "\n",
    "redcap_filepath = '/Users/gustaveronteix/Documents/data/OraklOnco/clinical/upload/PANCREASGR-PDO_DATA_2023-10-18_1509.csv'\n",
    "output_dir = '/Users/gustaveronteix/Documents/data/OraklOnco/clinical/upload/single_files'\n",
    "conversion_table_filepath = 'conversion_table/redcap_PGR_conversion_table.csv'\n",
    "disease_type = 'PDAC'\n",
    "\n",
    "redcap_preprocessing.preprocess_redcap_data(redcap_filepath,\n",
    "                                            conversion_table_filepath,\n",
    "                                            output_dir,\n",
    "                                            disease_type,\n",
    "                                            True,)"
   ]
  },
  {
   "cell_type": "markdown",
   "metadata": {},
   "source": []
  }
 ],
 "metadata": {
  "kernelspec": {
   "display_name": "Python 3",
   "language": "python",
   "name": "python3"
  },
  "language_info": {
   "codemirror_mode": {
    "name": "ipython",
    "version": 3
   },
   "file_extension": ".py",
   "mimetype": "text/x-python",
   "name": "python",
   "nbconvert_exporter": "python",
   "pygments_lexer": "ipython3",
   "version": "3.11.5"
  }
 },
 "nbformat": 4,
 "nbformat_minor": 2
}
