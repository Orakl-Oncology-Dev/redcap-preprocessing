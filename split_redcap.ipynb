{
 "cells": [
  {
   "cell_type": "code",
   "execution_count": 1,
   "metadata": {},
   "outputs": [],
   "source": [
    "import os\n",
    "import pandas as pd\n",
    "import numpy as np\n",
    "import datetime\n"
   ]
  },
  {
   "cell_type": "code",
   "execution_count": 2,
   "metadata": {},
   "outputs": [],
   "source": [
    "import split_clinical_data_from_redcap\n",
    "\n",
    "# load redcap data\n",
    "redcap_filepath = '../tests/test_data/sample_test_data.csv'\n",
    "output_dir = '../tests/test_script_result'\n",
    "conversion_table_filepath = '../redcap_CRC_conversion_table.csv'\n",
    "\n",
    "split_clinical_data_from_redcap.split_clinical_data_from_redcap_directory(redcap_filepath,\n",
    "                                                        conversion_table_filepath,\n",
    "                                                        output_dir)"
   ]
  },
  {
   "cell_type": "code",
   "execution_count": 3,
   "metadata": {},
   "outputs": [],
   "source": [
    "import split_treatment_data_from_redcap\n",
    "\n",
    "# load redcap data\n",
    "redcap_filepath = '../tests/test_data/sample_test_data.csv'\n",
    "output_dir = '../tests/test_script_result'\n",
    "conversion_table_filepath = '../redcap_CRC_conversion_table.csv'\n",
    "\n",
    "split_treatment_data_from_redcap.split_treatment_data_from_redcap(redcap_filepath,\n",
    "                                                        conversion_table_filepath,\n",
    "                                                        output_dir)"
   ]
  },
  {
   "cell_type": "code",
   "execution_count": null,
   "metadata": {},
   "outputs": [],
   "source": [
    "import split_molecular_data_from_redcap\n",
    "\n",
    "# load redcap data\n",
    "redcap_filepath = '../tests/test_data/sample_test_data.csv'\n",
    "output_dir = '../tests/test_script_result'\n",
    "conversion_table_filepath = '../redcap_CRC_conversion_table.csv'\n",
    "\n",
    "split_molecular_data_from_redcap.split_treatment_data_from_redcap(redcap_filepath,\n",
    "                                                        conversion_table_filepath,\n",
    "                                                        output_dir)"
   ]
  },
  {
   "cell_type": "markdown",
   "metadata": {},
   "source": [
    "# Preprocessing clinical data\n",
    "\n",
    "We do this prior to upload because of patient merging issues."
   ]
  },
  {
   "cell_type": "code",
   "execution_count": 3,
   "metadata": {},
   "outputs": [
    {
     "name": "stdout",
     "output_type": "stream",
     "text": [
      "Error for 53\n"
     ]
    }
   ],
   "source": [
    "import split_clinical_data_from_redcap\n",
    "\n",
    "# load redcap data\n",
    "redcap_filepath = '/Users/gustaveronteix/Documents/data/OraklOnco/clinical/upload/ColonGR-PDO_DATA_2023-10-18_1504.csv'\n",
    "output_dir = '/Users/gustaveronteix/Documents/data/OraklOnco/clinical/upload/single_files'\n",
    "conversion_table_filepath = '../redcap_CRC_conversion_table.csv'\n",
    "\n",
    "split_clinical_data_from_redcap.split_clinical_data_from_redcap_directory(redcap_filepath,\n",
    "                                                        conversion_table_filepath,\n",
    "                                                        output_dir)"
   ]
  },
  {
   "cell_type": "code",
   "execution_count": 3,
   "metadata": {},
   "outputs": [
    {
     "name": "stdout",
     "output_type": "stream",
     "text": [
      "Error for 53\n",
      "Error for 56\n",
      "Error for 88\n",
      "Error for 90\n",
      "Error for 93\n",
      "Error for 94\n",
      "Error for 95\n",
      "Error for 98\n",
      "Error for 99\n",
      "Error for 471\n"
     ]
    }
   ],
   "source": [
    "import split_treatment_data_from_redcap\n",
    "\n",
    "# load redcap data\n",
    "redcap_filepath = '/Users/gustaveronteix/Documents/data/OraklOnco/clinical/upload/ColonGR-PDO_DATA_2023-10-18_1504.csv'\n",
    "output_dir = '/Users/gustaveronteix/Documents/data/OraklOnco/clinical/upload/single_files'\n",
    "conversion_table_filepath = '../redcap_CRC_conversion_table.csv'\n",
    "\n",
    "split_treatment_data_from_redcap.split_treatment_data_from_redcap(redcap_filepath,\n",
    "                                                        conversion_table_filepath,\n",
    "                                                        output_dir)"
   ]
  },
  {
   "cell_type": "code",
   "execution_count": null,
   "metadata": {},
   "outputs": [],
   "source": []
  }
 ],
 "metadata": {
  "kernelspec": {
   "display_name": "Python 3",
   "language": "python",
   "name": "python3"
  },
  "language_info": {
   "codemirror_mode": {
    "name": "ipython",
    "version": 3
   },
   "file_extension": ".py",
   "mimetype": "text/x-python",
   "name": "python",
   "nbconvert_exporter": "python",
   "pygments_lexer": "ipython3",
   "version": "3.11.5"
  }
 },
 "nbformat": 4,
 "nbformat_minor": 2
}
