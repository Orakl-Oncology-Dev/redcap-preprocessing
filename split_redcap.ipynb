{
 "cells": [
  {
   "cell_type": "code",
   "execution_count": 1,
   "metadata": {},
   "outputs": [],
   "source": [
    "import pandas as pd\n",
    "import numpy as np"
   ]
  },
  {
   "cell_type": "markdown",
   "metadata": {},
   "source": []
  },
  {
   "cell_type": "markdown",
   "metadata": {},
   "source": [
    "# Preprocessing clinical data\n",
    "\n",
    "We do this prior to upload because of patient merging issues."
   ]
  },
  {
   "cell_type": "code",
   "execution_count": null,
   "metadata": {},
   "outputs": [],
   "source": [
    "from redcap_preprocessing import redcap_preprocessing\n",
    "\n",
    "redcap_filepath = '/Users/gustaveronteix/Documents/data/OraklOnco/clinical/upload/ColonGR-PDO_DATA_2023-10-18_1504.csv'\n",
    "output_dir = '/Users/gustaveronteix/Documents/data/OraklOnco/clinical/upload/single_files'\n",
    "conversion_table_filepath = 'conversion_table/redcap_CRC_conversion_table.csv'\n",
    "disease_type = 'CRC'\n",
    "\n",
    "redcap_preprocessing.preprocess_redcap_data(redcap_filepath,\n",
    "                                            conversion_table_filepath,\n",
    "                                            output_dir,\n",
    "                                            disease_type,\n",
    "                                            True,)"
   ]
  },
  {
   "cell_type": "code",
   "execution_count": 2,
   "metadata": {},
   "outputs": [
    {
     "name": "stdout",
     "output_type": "stream",
     "text": [
      "There are no PDO cell lines for record_id 53.\n",
      "There are no PDO cell lines for record_id 53.\n",
      "There are no PDO cell lines for record_id 53.\n",
      "There are no PDO cell lines for record_id 53.\n",
      "There are no PDO cell lines for record_id 53.\n",
      "There are no PDO cell lines for record_id 53.\n"
     ]
    }
   ],
   "source": [
    "from redcap_preprocessing import redcap_preprocessing\n",
    "\n",
    "redcap_filepath = '/Users/gustaveronteix/Documents/data/OraklOnco/clinical/upload/ColonGR-PDO_DATA_2023-10-18_1504.csv'\n",
    "output_dir = '/Users/gustaveronteix/Documents/data/OraklOnco/clinical/upload/single_files'\n",
    "conversion_table_filepath = 'conversion_table/redcap_CRC_conversion_table.csv'\n",
    "disease_type = 'CRC'\n",
    "\n",
    "redcap_preprocessing.preprocess_redcap_data(redcap_filepath,\n",
    "                                            disease_type=disease_type,\n",
    "                                            output_dir=output_dir,\n",
    "                                            save_as_single_file = True)"
   ]
  },
  {
   "cell_type": "code",
   "execution_count": 3,
   "metadata": {},
   "outputs": [
    {
     "name": "stdout",
     "output_type": "stream",
     "text": [
      "There are no PDO cell lines for record_id 12.\n",
      "There are no PDO cell lines for record_id 12.\n",
      "There are no PDO cell lines for record_id 101.\n",
      "There are no PDO cell lines for record_id 101.\n",
      "There are no PDO cell lines for record_id 450.\n",
      "There are no PDO cell lines for record_id 450.\n"
     ]
    },
    {
     "ename": "KeyError",
     "evalue": "\"['record_id', 'cell_line_code', 'date_cell_line'] not in index\"",
     "output_type": "error",
     "traceback": [
      "\u001b[0;31m---------------------------------------------------------------------------\u001b[0m",
      "\u001b[0;31mKeyError\u001b[0m                                  Traceback (most recent call last)",
      "Cell \u001b[0;32mIn[3], line 8\u001b[0m\n\u001b[1;32m      5\u001b[0m conversion_table_filepath \u001b[38;5;241m=\u001b[39m \u001b[38;5;124m'\u001b[39m\u001b[38;5;124mconversion_table/redcap_PGR_conversion_table.csv\u001b[39m\u001b[38;5;124m'\u001b[39m\n\u001b[1;32m      6\u001b[0m disease_type \u001b[38;5;241m=\u001b[39m \u001b[38;5;124m'\u001b[39m\u001b[38;5;124mPDAC\u001b[39m\u001b[38;5;124m'\u001b[39m\n\u001b[0;32m----> 8\u001b[0m \u001b[43mredcap_preprocessing\u001b[49m\u001b[38;5;241;43m.\u001b[39;49m\u001b[43mpreprocess_redcap_data\u001b[49m\u001b[43m(\u001b[49m\u001b[43mredcap_filepath\u001b[49m\u001b[43m,\u001b[49m\n\u001b[1;32m      9\u001b[0m \u001b[43m                                            \u001b[49m\u001b[43mdisease_type\u001b[49m\u001b[38;5;241;43m=\u001b[39;49m\u001b[43mdisease_type\u001b[49m\u001b[43m,\u001b[49m\n\u001b[1;32m     10\u001b[0m \u001b[43m                                            \u001b[49m\u001b[43moutput_dir\u001b[49m\u001b[38;5;241;43m=\u001b[39;49m\u001b[43moutput_dir\u001b[49m\u001b[43m,\u001b[49m\n\u001b[1;32m     11\u001b[0m \u001b[43m                                            \u001b[49m\u001b[43msave_as_single_file\u001b[49m\u001b[43m \u001b[49m\u001b[38;5;241;43m=\u001b[39;49m\u001b[43m \u001b[49m\u001b[38;5;28;43;01mTrue\u001b[39;49;00m\u001b[43m)\u001b[49m\n",
      "File \u001b[0;32m~/Documents/Code/redcap-preprocessing/redcap_preprocessing/redcap_preprocessing.py:28\u001b[0m, in \u001b[0;36mpreprocess_redcap_data\u001b[0;34m(redcap_filepath, disease_type, save_as_single_file, output_dir)\u001b[0m\n\u001b[1;32m     25\u001b[0m \u001b[38;5;28;01melif\u001b[39;00m disease_type \u001b[38;5;241m==\u001b[39m \u001b[38;5;124m'\u001b[39m\u001b[38;5;124mPDAC\u001b[39m\u001b[38;5;124m'\u001b[39m:\n\u001b[1;32m     26\u001b[0m     conversion_table_filepath \u001b[38;5;241m=\u001b[39m os\u001b[38;5;241m.\u001b[39mpath\u001b[38;5;241m.\u001b[39mjoin(\u001b[38;5;124m'\u001b[39m\u001b[38;5;124mconversion_table\u001b[39m\u001b[38;5;124m'\u001b[39m, \u001b[38;5;124m'\u001b[39m\u001b[38;5;124mredcap_PDAC_conversion_table.csv\u001b[39m\u001b[38;5;124m'\u001b[39m)\n\u001b[0;32m---> 28\u001b[0m \u001b[43mutils_preprocess_redcap_data\u001b[49m\u001b[43m(\u001b[49m\u001b[43mredcap_filepath\u001b[49m\u001b[43m,\u001b[49m\n\u001b[1;32m     29\u001b[0m \u001b[43m                       \u001b[49m\u001b[43mconversion_table_filepath\u001b[49m\u001b[43m,\u001b[49m\n\u001b[1;32m     30\u001b[0m \u001b[43m                       \u001b[49m\u001b[43moutput_dir\u001b[49m\u001b[43m,\u001b[49m\n\u001b[1;32m     31\u001b[0m \u001b[43m                       \u001b[49m\u001b[43mdisease_type\u001b[49m\u001b[43m,\u001b[49m\n\u001b[1;32m     32\u001b[0m \u001b[43m                       \u001b[49m\u001b[43msave_as_single_file\u001b[49m\n\u001b[1;32m     33\u001b[0m \u001b[43m                       \u001b[49m\u001b[43m)\u001b[49m\n\u001b[1;32m     35\u001b[0m \u001b[38;5;28;01mreturn\u001b[39;00m\n",
      "File \u001b[0;32m~/Documents/Code/redcap-preprocessing/redcap_preprocessing/redcap_preprocessing.py:48\u001b[0m, in \u001b[0;36mutils_preprocess_redcap_data\u001b[0;34m(redcap_filepath, conversion_table_filepath, output_dir, disease_type, save_as_single_file)\u001b[0m\n\u001b[1;32m     45\u001b[0m \u001b[38;5;28;01mif\u001b[39;00m \u001b[38;5;129;01mnot\u001b[39;00m os\u001b[38;5;241m.\u001b[39mpath\u001b[38;5;241m.\u001b[39mexists(output_dir):\n\u001b[1;32m     46\u001b[0m     os\u001b[38;5;241m.\u001b[39mmakedirs(output_dir)\n\u001b[0;32m---> 48\u001b[0m \u001b[43msplit_clinical_data_from_redcap\u001b[49m\u001b[38;5;241;43m.\u001b[39;49m\u001b[43msplit_clinical_data_from_redcap_directory\u001b[49m\u001b[43m(\u001b[49m\u001b[43mredcap_filepath\u001b[49m\u001b[43m,\u001b[49m\n\u001b[1;32m     49\u001b[0m \u001b[43m                                                    \u001b[49m\u001b[43mconversion_table_filepath\u001b[49m\u001b[43m,\u001b[49m\n\u001b[1;32m     50\u001b[0m \u001b[43m                                                    \u001b[49m\u001b[43moutput_dir\u001b[49m\u001b[43m,\u001b[49m\n\u001b[1;32m     51\u001b[0m \u001b[43m                                                    \u001b[49m\u001b[43mdisease_type\u001b[49m\u001b[43m,\u001b[49m\n\u001b[1;32m     52\u001b[0m \u001b[43m                                                    \u001b[49m\u001b[43msave_as_single_file\u001b[49m\u001b[43m)\u001b[49m\n\u001b[1;32m     54\u001b[0m split_treatment_data_from_redcap\u001b[38;5;241m.\u001b[39msplit_treatment_data_from_redcap(redcap_filepath,\n\u001b[1;32m     55\u001b[0m                                                     conversion_table_filepath,\n\u001b[1;32m     56\u001b[0m                                                     output_dir,\n\u001b[1;32m     57\u001b[0m                                                     disease_type,\n\u001b[1;32m     58\u001b[0m                                                     save_as_single_file)\n\u001b[1;32m     60\u001b[0m split_molecular_data_from_redcap\u001b[38;5;241m.\u001b[39msplit_molecular_data_from_redcap(redcap_filepath,\n\u001b[1;32m     61\u001b[0m                                                     conversion_table_filepath,\n\u001b[1;32m     62\u001b[0m                                                     output_dir,\n\u001b[1;32m     63\u001b[0m                                                     disease_type,\n\u001b[1;32m     64\u001b[0m                                                     save_as_single_file)\n",
      "File \u001b[0;32m~/Documents/Code/redcap-preprocessing/redcap_preprocessing/split_clinical_data_from_redcap.py:167\u001b[0m, in \u001b[0;36msplit_clinical_data_from_redcap_directory\u001b[0;34m(redcap_path, redcap_conversion_table_path, output_dir, disease_type, save_as_single_file)\u001b[0m\n\u001b[1;32m    164\u001b[0m new_column_order \u001b[38;5;241m=\u001b[39m selected_columns \u001b[38;5;241m+\u001b[39m other_columns\n\u001b[1;32m    166\u001b[0m \u001b[38;5;66;03m# Reorder the DataFrame\u001b[39;00m\n\u001b[0;32m--> 167\u001b[0m cleaned_patient_clinical_data \u001b[38;5;241m=\u001b[39m \u001b[43mcleaned_patient_clinical_data\u001b[49m\u001b[43m[\u001b[49m\u001b[43mnew_column_order\u001b[49m\u001b[43m]\u001b[49m\n\u001b[1;32m    169\u001b[0m \u001b[38;5;28;01mif\u001b[39;00m disease_type \u001b[38;5;241m==\u001b[39m \u001b[38;5;124m'\u001b[39m\u001b[38;5;124mCRC\u001b[39m\u001b[38;5;124m'\u001b[39m:\n\u001b[1;32m    170\u001b[0m     filename \u001b[38;5;241m=\u001b[39m \u001b[38;5;124mf\u001b[39m\u001b[38;5;124m'\u001b[39m\u001b[38;5;132;01m{\u001b[39;00moutput_dir\u001b[38;5;132;01m}\u001b[39;00m\u001b[38;5;124m/CLI_C_PID_ALL.csv\u001b[39m\u001b[38;5;124m'\u001b[39m\n",
      "File \u001b[0;32m/opt/homebrew/lib/python3.11/site-packages/pandas/core/frame.py:3767\u001b[0m, in \u001b[0;36mDataFrame.__getitem__\u001b[0;34m(self, key)\u001b[0m\n\u001b[1;32m   3765\u001b[0m     \u001b[38;5;28;01mif\u001b[39;00m is_iterator(key):\n\u001b[1;32m   3766\u001b[0m         key \u001b[38;5;241m=\u001b[39m \u001b[38;5;28mlist\u001b[39m(key)\n\u001b[0;32m-> 3767\u001b[0m     indexer \u001b[38;5;241m=\u001b[39m \u001b[38;5;28;43mself\u001b[39;49m\u001b[38;5;241;43m.\u001b[39;49m\u001b[43mcolumns\u001b[49m\u001b[38;5;241;43m.\u001b[39;49m\u001b[43m_get_indexer_strict\u001b[49m\u001b[43m(\u001b[49m\u001b[43mkey\u001b[49m\u001b[43m,\u001b[49m\u001b[43m \u001b[49m\u001b[38;5;124;43m\"\u001b[39;49m\u001b[38;5;124;43mcolumns\u001b[39;49m\u001b[38;5;124;43m\"\u001b[39;49m\u001b[43m)\u001b[49m[\u001b[38;5;241m1\u001b[39m]\n\u001b[1;32m   3769\u001b[0m \u001b[38;5;66;03m# take() does not accept boolean indexers\u001b[39;00m\n\u001b[1;32m   3770\u001b[0m \u001b[38;5;28;01mif\u001b[39;00m \u001b[38;5;28mgetattr\u001b[39m(indexer, \u001b[38;5;124m\"\u001b[39m\u001b[38;5;124mdtype\u001b[39m\u001b[38;5;124m\"\u001b[39m, \u001b[38;5;28;01mNone\u001b[39;00m) \u001b[38;5;241m==\u001b[39m \u001b[38;5;28mbool\u001b[39m:\n",
      "File \u001b[0;32m/opt/homebrew/lib/python3.11/site-packages/pandas/core/indexes/base.py:5876\u001b[0m, in \u001b[0;36mIndex._get_indexer_strict\u001b[0;34m(self, key, axis_name)\u001b[0m\n\u001b[1;32m   5873\u001b[0m \u001b[38;5;28;01melse\u001b[39;00m:\n\u001b[1;32m   5874\u001b[0m     keyarr, indexer, new_indexer \u001b[38;5;241m=\u001b[39m \u001b[38;5;28mself\u001b[39m\u001b[38;5;241m.\u001b[39m_reindex_non_unique(keyarr)\n\u001b[0;32m-> 5876\u001b[0m \u001b[38;5;28;43mself\u001b[39;49m\u001b[38;5;241;43m.\u001b[39;49m\u001b[43m_raise_if_missing\u001b[49m\u001b[43m(\u001b[49m\u001b[43mkeyarr\u001b[49m\u001b[43m,\u001b[49m\u001b[43m \u001b[49m\u001b[43mindexer\u001b[49m\u001b[43m,\u001b[49m\u001b[43m \u001b[49m\u001b[43maxis_name\u001b[49m\u001b[43m)\u001b[49m\n\u001b[1;32m   5878\u001b[0m keyarr \u001b[38;5;241m=\u001b[39m \u001b[38;5;28mself\u001b[39m\u001b[38;5;241m.\u001b[39mtake(indexer)\n\u001b[1;32m   5879\u001b[0m \u001b[38;5;28;01mif\u001b[39;00m \u001b[38;5;28misinstance\u001b[39m(key, Index):\n\u001b[1;32m   5880\u001b[0m     \u001b[38;5;66;03m# GH 42790 - Preserve name from an Index\u001b[39;00m\n",
      "File \u001b[0;32m/opt/homebrew/lib/python3.11/site-packages/pandas/core/indexes/base.py:5938\u001b[0m, in \u001b[0;36mIndex._raise_if_missing\u001b[0;34m(self, key, indexer, axis_name)\u001b[0m\n\u001b[1;32m   5935\u001b[0m     \u001b[38;5;28;01mraise\u001b[39;00m \u001b[38;5;167;01mKeyError\u001b[39;00m(\u001b[38;5;124mf\u001b[39m\u001b[38;5;124m\"\u001b[39m\u001b[38;5;124mNone of [\u001b[39m\u001b[38;5;132;01m{\u001b[39;00mkey\u001b[38;5;132;01m}\u001b[39;00m\u001b[38;5;124m] are in the [\u001b[39m\u001b[38;5;132;01m{\u001b[39;00maxis_name\u001b[38;5;132;01m}\u001b[39;00m\u001b[38;5;124m]\u001b[39m\u001b[38;5;124m\"\u001b[39m)\n\u001b[1;32m   5937\u001b[0m not_found \u001b[38;5;241m=\u001b[39m \u001b[38;5;28mlist\u001b[39m(ensure_index(key)[missing_mask\u001b[38;5;241m.\u001b[39mnonzero()[\u001b[38;5;241m0\u001b[39m]]\u001b[38;5;241m.\u001b[39munique())\n\u001b[0;32m-> 5938\u001b[0m \u001b[38;5;28;01mraise\u001b[39;00m \u001b[38;5;167;01mKeyError\u001b[39;00m(\u001b[38;5;124mf\u001b[39m\u001b[38;5;124m\"\u001b[39m\u001b[38;5;132;01m{\u001b[39;00mnot_found\u001b[38;5;132;01m}\u001b[39;00m\u001b[38;5;124m not in index\u001b[39m\u001b[38;5;124m\"\u001b[39m)\n",
      "\u001b[0;31mKeyError\u001b[0m: \"['record_id', 'cell_line_code', 'date_cell_line'] not in index\""
     ]
    }
   ],
   "source": [
    "from redcap_preprocessing import redcap_preprocessing\n",
    "\n",
    "redcap_filepath = '/Users/gustaveronteix/Documents/data/OraklOnco/clinical/upload/PANCREASGR-PDO_DATA_2023-10-18_1509.csv'\n",
    "output_dir = '/Users/gustaveronteix/Documents/data/OraklOnco/clinical/upload/single_files'\n",
    "conversion_table_filepath = 'conversion_table/redcap_PGR_conversion_table.csv'\n",
    "disease_type = 'PDAC'\n",
    "\n",
    "redcap_preprocessing.preprocess_redcap_data(redcap_filepath,\n",
    "                                            disease_type=disease_type,\n",
    "                                            output_dir=output_dir,\n",
    "                                            save_as_single_file = True)"
   ]
  },
  {
   "cell_type": "markdown",
   "metadata": {},
   "source": []
  },
  {
   "cell_type": "markdown",
   "metadata": {},
   "source": []
  }
 ],
 "metadata": {
  "kernelspec": {
   "display_name": "Python 3",
   "language": "python",
   "name": "python3"
  },
  "language_info": {
   "codemirror_mode": {
    "name": "ipython",
    "version": 3
   },
   "file_extension": ".py",
   "mimetype": "text/x-python",
   "name": "python",
   "nbconvert_exporter": "python",
   "pygments_lexer": "ipython3",
   "version": "3.11.7"
  }
 },
 "nbformat": 4,
 "nbformat_minor": 2
}
