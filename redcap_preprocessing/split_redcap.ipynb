{
 "cells": [
  {
   "cell_type": "code",
   "execution_count": 1,
   "metadata": {},
   "outputs": [],
   "source": [
    "import os\n",
    "import pandas as pd\n",
    "import numpy as np\n",
    "import datetime\n"
   ]
  },
  {
   "cell_type": "code",
   "execution_count": 4,
   "metadata": {},
   "outputs": [
    {
     "name": "stdout",
     "output_type": "stream",
     "text": [
      "Saved ../tests/test_script_result/CL_C_PID_GR0069_SID_0001.csv\n"
     ]
    }
   ],
   "source": [
    "import split_clinical_data_from_redcap\n",
    "\n",
    "# load redcap data\n",
    "redcap_filepath = '../tests/test_data/sample_test_data.csv'\n",
    "output_dir = '../tests/test_script_result'\n",
    "conversion_table_filepath = '../redcap_CRC_conversion_table.csv'\n",
    "\n",
    "split_clinical_data_from_redcap.split_clinical_data_from_redcap_directory(redcap_filepath,\n",
    "                                                        conversion_table_filepath,\n",
    "                                                        output_dir)"
   ]
  },
  {
   "cell_type": "code",
   "execution_count": null,
   "metadata": {},
   "outputs": [],
   "source": [
    "import split_treatment_data_from_redcap\n",
    "\n",
    "# load redcap data\n",
    "redcap_filepath = '../tests/test_data/sample_test_data.csv'\n",
    "output_dir = '../tests/test_script_result'\n",
    "conversion_table_filepath = '../redcap_CRC_conversion_table.csv'\n",
    "\n",
    "split_treatment_data_from_redcap.split_treatment_data_from_redcap(redcap_filepath,\n",
    "                                                        conversion_table_filepath,\n",
    "                                                        output_dir)"
   ]
  }
 ],
 "metadata": {
  "kernelspec": {
   "display_name": "Python 3",
   "language": "python",
   "name": "python3"
  },
  "language_info": {
   "codemirror_mode": {
    "name": "ipython",
    "version": 3
   },
   "file_extension": ".py",
   "mimetype": "text/x-python",
   "name": "python",
   "nbconvert_exporter": "python",
   "pygments_lexer": "ipython3",
   "version": "3.11.5"
  }
 },
 "nbformat": 4,
 "nbformat_minor": 2
}
