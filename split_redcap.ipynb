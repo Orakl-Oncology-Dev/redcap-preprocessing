{
 "cells": [
  {
   "cell_type": "code",
   "execution_count": 1,
   "metadata": {},
   "outputs": [],
   "source": [
    "import pandas as pd\n",
    "import numpy as np"
   ]
  },
  {
   "cell_type": "markdown",
   "metadata": {},
   "source": []
  },
  {
   "cell_type": "markdown",
   "metadata": {},
   "source": [
    "# Preprocessing clinical data\n",
    "\n",
    "We do this prior to upload because of patient merging issues."
   ]
  },
  {
   "cell_type": "code",
   "execution_count": null,
   "metadata": {},
   "outputs": [],
   "source": [
    "from redcap_preprocessing import redcap_preprocessing\n",
    "\n",
    "redcap_filepath = '/Users/gustaveronteix/Documents/data/OraklOnco/clinical/upload/ColonGR-PDO_DATA_2023-10-18_1504.csv'\n",
    "output_dir = '/Users/gustaveronteix/Documents/data/OraklOnco/clinical/upload/single_files'\n",
    "conversion_table_filepath = 'conversion_table/redcap_CRC_conversion_table.csv'\n",
    "disease_type = 'CRC'\n",
    "\n",
    "redcap_preprocessing.preprocess_redcap_data(redcap_filepath,\n",
    "                                            conversion_table_filepath,\n",
    "                                            output_dir,\n",
    "                                            disease_type,\n",
    "                                            True,)"
   ]
  },
  {
   "cell_type": "code",
   "execution_count": 2,
   "metadata": {},
   "outputs": [
    {
     "name": "stdout",
     "output_type": "stream",
     "text": [
      "There are no PDO cell lines for record_id 53.\n",
      "There are no PDO cell lines for record_id 53.\n",
      "There are no PDO cell lines for record_id 53.\n",
      "There are no PDO cell lines for record_id 53.\n",
      "There are no PDO cell lines for record_id 53.\n",
      "There are no PDO cell lines for record_id 53.\n"
     ]
    }
   ],
   "source": [
    "from redcap_preprocessing import redcap_preprocessing\n",
    "\n",
    "redcap_filepath = '/Users/gustaveronteix/Documents/data/OraklOnco/clinical/upload/ColonGR-PDO_DATA_2023-10-18_1504.csv'\n",
    "output_dir = '/Users/gustaveronteix/Documents/data/OraklOnco/clinical/upload/single_files'\n",
    "conversion_table_filepath = 'conversion_table/redcap_CRC_conversion_table.csv'\n",
    "disease_type = 'CRC'\n",
    "\n",
    "redcap_preprocessing.preprocess_redcap_data(redcap_filepath,\n",
    "                                            disease_type=disease_type,\n",
    "                                            output_dir=output_dir,\n",
    "                                            save_as_single_file = False)"
   ]
  },
  {
   "cell_type": "code",
   "execution_count": 3,
   "metadata": {},
   "outputs": [
    {
     "name": "stdout",
     "output_type": "stream",
     "text": [
      "There are no PDO cell lines for record_id 12.\n",
      "There are no PDO cell lines for record_id 12.\n",
      "There are no PDO cell lines for record_id 101.\n",
      "There are no PDO cell lines for record_id 101.\n",
      "There are no PDO cell lines for record_id 450.\n",
      "There are no PDO cell lines for record_id 450.\n",
      "There are no PDO cell lines for record_id 12.\n",
      "There are no PDO cell lines for record_id 12.\n",
      "There are no PDO cell lines for record_id 101.\n",
      "There are no PDO cell lines for record_id 101.\n",
      "There are no PDO cell lines for record_id 450.\n",
      "There are no PDO cell lines for record_id 450.\n",
      "There are no PDO cell lines for record_id 12.\n",
      "There are no PDO cell lines for record_id 12.\n",
      "There are no PDO cell lines for record_id 101.\n",
      "There are no PDO cell lines for record_id 101.\n",
      "There are no PDO cell lines for record_id 450.\n",
      "There are no PDO cell lines for record_id 450.\n"
     ]
    }
   ],
   "source": [
    "from redcap_preprocessing import redcap_preprocessing\n",
    "\n",
    "redcap_filepath = '/Users/gustaveronteix/Documents/data/OraklOnco/clinical/upload/PANCREASGR-PDO_DATA_2023-10-18_1509.csv'\n",
    "output_dir = '/Users/gustaveronteix/Documents/data/OraklOnco/clinical/upload/single_files'\n",
    "conversion_table_filepath = 'conversion_table/redcap_PGR_conversion_table.csv'\n",
    "disease_type = 'PDAC'\n",
    "\n",
    "redcap_preprocessing.preprocess_redcap_data(redcap_filepath,\n",
    "                                            disease_type=disease_type,\n",
    "                                            output_dir=output_dir,\n",
    "                                            save_as_single_file = False)"
   ]
  },
  {
   "cell_type": "markdown",
   "metadata": {},
   "source": []
  },
  {
   "cell_type": "markdown",
   "metadata": {},
   "source": []
  }
 ],
 "metadata": {
  "kernelspec": {
   "display_name": "Python 3",
   "language": "python",
   "name": "python3"
  },
  "language_info": {
   "codemirror_mode": {
    "name": "ipython",
    "version": 3
   },
   "file_extension": ".py",
   "mimetype": "text/x-python",
   "name": "python",
   "nbconvert_exporter": "python",
   "pygments_lexer": "ipython3",
   "version": "3.11.5"
  }
 },
 "nbformat": 4,
 "nbformat_minor": 2
}
