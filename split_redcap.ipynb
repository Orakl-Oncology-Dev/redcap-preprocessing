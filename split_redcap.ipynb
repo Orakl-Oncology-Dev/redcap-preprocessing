{
 "cells": [
  {
   "cell_type": "markdown",
   "metadata": {},
   "source": []
  },
  {
   "cell_type": "code",
   "execution_count": 1,
   "metadata": {},
   "outputs": [],
   "source": [
    "import pandas as pd\n",
    "import numpy as np"
   ]
  },
  {
   "cell_type": "markdown",
   "metadata": {},
   "source": []
  },
  {
   "cell_type": "markdown",
   "metadata": {},
   "source": [
    "# Preprocessing clinical data\n",
    "\n",
    "We do this prior to upload because of patient merging issues."
   ]
  },
  {
   "cell_type": "code",
   "execution_count": 2,
   "metadata": {},
   "outputs": [
    {
     "name": "stdout",
     "output_type": "stream",
     "text": [
      "There are no PDO cell lines for record_id 53.\n",
      "There are no PDO cell lines for record_id 53.\n",
      "There are no PDO cell lines for record_id 53.\n",
      "There are no PDO cell lines for record_id 53.\n",
      "Index(['record_id', 'cell_line_code', 'date_cell_line',\n",
      "       'redcap_repeat_instrument', 'line_number', 'line_indication', 'CIAH',\n",
      "       'associated_chip', 'chemotherapy_type', 'targeted_therapy_type',\n",
      "       'immunotherapy_type', 'first_dose_date', 'last_dose_date',\n",
      "       'stop_chemotherapy_cause', 'neurotoxicity', 'progression_date',\n",
      "       'date_RECIST_evaluation', 'progression_type',\n",
      "       'chemotherapy_RECIST_response', 'PFS', 'sister_cell_line_codes',\n",
      "       'date_death'],\n",
      "      dtype='object')\n",
      "['2022-05-18' '2020-07-03' '2022-11-21' '2020-10-23' '2020-09-01'\n",
      " '2023-12-07' '2023-08-26' '2023-04-04' '2023-11-08' '2023-11-27'\n",
      " '2023-10-26' '2023-10-25' '2023-12-11' '2023-09-14' '2021-10-09'\n",
      " '2022-07-11' '2021-05-15' '2021-12-26' '2021-04-05' '2021-04-24'\n",
      " '2022-02-23' '2023-10-05' '2021-06-28' '2022-05-06' '2022-01-30'\n",
      " '2023-01-23' '2022-06-18' '2022-01-25' '2022-03-05' '2023-11-01'\n",
      " '2022-08-20' '2022-07-04' '2022-08-27' '2022-09-26' '2023-12-12'\n",
      " '2022-08-05' '2022-10-21' '2023-12-08' '2023-04-12' '2023-12-19'\n",
      " '2023-10-09' '2023-12-20' '2023-12-13' '2023-11-10' '2023-12-22'\n",
      " '2024-01-19']\n",
      "There are no PDO cell lines for record_id 53.\n",
      "There are no PDO cell lines for record_id 53.\n"
     ]
    }
   ],
   "source": [
    "from redcap_preprocessing import redcap_preprocessing\n",
    "\n",
    "redcap_filepath = '/Users/gustaveronteix/Documents/data/OraklOnco/clinical/20240403/raw/ColonGR-PDO_DATA_2024-03-29_1424.csv'\n",
    "output_dir = '/Users/gustaveronteix/Documents/data/OraklOnco/clinical/20240403/single_files'\n",
    "conversion_table_filepath = 'conversion_table/redcap_CRC_conversion_table.csv'\n",
    "disease_type = 'CRC'\n",
    "\n",
    "redcap_preprocessing.preprocess_redcap_data(redcap_filepath,\n",
    "                                            disease_type=disease_type,\n",
    "                                            output_dir=output_dir,\n",
    "                                            save_as_single_file = True)"
   ]
  },
  {
   "cell_type": "code",
   "execution_count": 2,
   "metadata": {},
   "outputs": [
    {
     "name": "stdout",
     "output_type": "stream",
     "text": [
      "There are no PDO cell lines for record_id 12.\n",
      "There are no PDO cell lines for record_id 12.\n",
      "There are no PDO cell lines for record_id 101.\n",
      "There are no PDO cell lines for record_id 101.\n",
      "There are no PDO cell lines for record_id 450.\n",
      "There are no PDO cell lines for record_id 450.\n",
      "There are no PDO cell lines for record_id 1174.\n",
      "There are no PDO cell lines for record_id 1174.\n",
      "There are no PDO cell lines for record_id 12.\n",
      "There are no PDO cell lines for record_id 12.\n",
      "There are no PDO cell lines for record_id 101.\n",
      "There are no PDO cell lines for record_id 101.\n",
      "There are no PDO cell lines for record_id 450.\n",
      "There are no PDO cell lines for record_id 450.\n",
      "There are no PDO cell lines for record_id 1174.\n",
      "There are no PDO cell lines for record_id 1174.\n",
      "Index(['record_id', 'cell_line_code', 'date_cell_line', 'line_number', 'PFS',\n",
      "       'chemotherapy_type', 'first_dose_date', 'last_dose_date',\n",
      "       'stop_chemotherapy_cause', 'progression_date', 'progression_type',\n",
      "       'chemotherapy_RECIST_response', 'sister_cell_line_codes', 'date_death'],\n",
      "      dtype='object')\n",
      "['2024-01-16' '2020-09-17' '2021-11-25' '2020-04-29' '2021-03-28'\n",
      " '2021-12-27' '2013-09-06' '2022-09-09' '2023-08-11' '2022-11-17'\n",
      " '2021-10-13' '2022-01-11' '2021-11-17' '2023-02-15' '2022-01-15'\n",
      " '2022-08-10' '2022-06-09' '2022-06-15' '2022-06-03' '2023-12-12'\n",
      " '2022-05-27' '2022-02-10' '2022-04-11' '2022-02-13' '2023-08-09'\n",
      " '2022-07-16' '2022-04-12' '2022-06-01' '2022-03-22' '2022-08-15'\n",
      " '2022-07-13' '2022-07-29' '2022-09-06' '2022-08-23' '2022-12-04'\n",
      " '2022-11-08' '2022-12-28' '2022-12-10' '2022-07-18' '2022-07-26'\n",
      " '2022-11-28' '2022-06-26' '2022-08-17' '2022-06-25' '2022-09-04'\n",
      " '2022-06-23' '2022-06-28' '2022-09-15' '2022-07-07' '2022-08-31'\n",
      " '2023-09-13' '2023-01-18' '2022-08-14' '2022-10-12' '2022-11-03'\n",
      " '2022-09-22' '2023-01-25' '2023-05-24' '2023-07-02' '2023-07-06'\n",
      " '2023-01-26' '2023-08-24' '2023-02-03' '2022-11-01' '2023-09-14'\n",
      " '2023-12-11' '2023-01-04' '2023-09-08' '2022-12-17' '2023-01-28'\n",
      " '2022-11-29' '2023-11-20' '2023-05-19' '2023-03-22' '2024-01-07'\n",
      " '2023-12-23' '2023-04-04' '2023-01-12' '2023-09-05' '2023-04-11'\n",
      " '2023-06-27' '2023-07-07' '2023-07-26' '2023-09-04' '2023-09-11'\n",
      " '2023-05-05' '2023-06-08' '2023-11-05' '2023-08-18' '2023-07-29'\n",
      " '2024-01-08' '2023-12-14' '2023-10-13' '2023-09-07' '2023-10-07'\n",
      " '2023-11-18' '2023-12-07' '2023-12-15' '2023-12-26']\n",
      "There are no PDO cell lines for record_id 12.\n",
      "There are no PDO cell lines for record_id 12.\n",
      "There are no PDO cell lines for record_id 101.\n",
      "There are no PDO cell lines for record_id 101.\n",
      "There are no PDO cell lines for record_id 450.\n",
      "There are no PDO cell lines for record_id 450.\n",
      "There are no PDO cell lines for record_id 1174.\n",
      "There are no PDO cell lines for record_id 1174.\n"
     ]
    }
   ],
   "source": [
    "from redcap_preprocessing import redcap_preprocessing\n",
    "\n",
    "redcap_filepath = '/Users/gustaveronteix/Documents/data/OraklOnco/clinical/20240403/raw/PANCREASGR-PDO_DATA_2024-03-29_1423.csv'\n",
    "output_dir = '/Users/gustaveronteix/Documents/data/OraklOnco/clinical/20240403/single_files'\n",
    "conversion_table_filepath = 'conversion_table/redcap_PGR_conversion_table.csv'\n",
    "disease_type = 'PDAC'\n",
    "\n",
    "redcap_preprocessing.preprocess_redcap_data(redcap_filepath,\n",
    "                                            disease_type=disease_type,\n",
    "                                            output_dir=output_dir,\n",
    "                                            save_as_single_file = True)"
   ]
  },
  {
   "cell_type": "markdown",
   "metadata": {},
   "source": []
  },
  {
   "cell_type": "markdown",
   "metadata": {},
   "source": []
  }
 ],
 "metadata": {
  "kernelspec": {
   "display_name": "Python 3",
   "language": "python",
   "name": "python3"
  },
  "language_info": {
   "codemirror_mode": {
    "name": "ipython",
    "version": 3
   },
   "file_extension": ".py",
   "mimetype": "text/x-python",
   "name": "python",
   "nbconvert_exporter": "python",
   "pygments_lexer": "ipython3",
   "version": "3.11.7"
  }
 },
 "nbformat": 4,
 "nbformat_minor": 2
}
